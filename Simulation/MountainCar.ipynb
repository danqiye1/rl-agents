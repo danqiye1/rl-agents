{
  "nbformat": 4,
  "nbformat_minor": 0,
  "metadata": {
    "colab": {
      "name": "MountainCar.ipynb",
      "provenance": [],
      "include_colab_link": true
    },
    "kernelspec": {
      "name": "python3",
      "display_name": "Python 3"
    },
    "language_info": {
      "name": "python"
    },
    "accelerator": "GPU"
  },
  "cells": [
    {
      "cell_type": "markdown",
      "metadata": {
        "id": "view-in-github",
        "colab_type": "text"
      },
      "source": [
        "<a href=\"https://colab.research.google.com/github/danqiye1/rl-agents/blob/master/Simulation/MountainCar.ipynb\" target=\"_parent\"><img src=\"https://colab.research.google.com/assets/colab-badge.svg\" alt=\"Open In Colab\"/></a>"
      ]
    },
    {
      "cell_type": "code",
      "metadata": {
        "id": "1-oNcpIhe3kW"
      },
      "source": [
        "# Setup Colab Environment with experiment requirements\n",
        "!pip install gym tqdm telegram-send"
      ],
      "execution_count": null,
      "outputs": []
    },
    {
      "cell_type": "code",
      "metadata": {
        "id": "s5Z63j7DqGvb"
      },
      "source": [
        "!telegram-send --configure"
      ],
      "execution_count": null,
      "outputs": []
    },
    {
      "cell_type": "code",
      "metadata": {
        "id": "DQKOqHcGfoRT"
      },
      "source": [
        "# Install agents\n",
        "!git clone https://github.com/danqiye1/rl-agents.git\n",
        "%cd rl-agents\n",
        "!pip install ."
      ],
      "execution_count": null,
      "outputs": []
    },
    {
      "cell_type": "code",
      "metadata": {
        "id": "lQK3_wYCStRP"
      },
      "source": [
        "\"\"\"\n",
        "Experiments for MountainCar\n",
        "\"\"\"\n",
        "import gym\n",
        "import telegram_send\n",
        "import numpy as np\n",
        "from tqdm import tqdm\n",
        "from matplotlib import pyplot as plt\n",
        "from MountainCar.agents import QLearningAgent, TDLambdaAgent\n",
        "from AgentUtils.plots import plot_running_avg"
      ],
      "execution_count": 4,
      "outputs": []
    },
    {
      "cell_type": "code",
      "metadata": {
        "id": "jLl9Rlw5e3kX"
      },
      "source": [
        "env = gym.make(\"MountainCar-v0\")\n",
        "agent = QLearningAgent(env, use_sklearn=True)"
      ],
      "execution_count": 5,
      "outputs": []
    },
    {
      "cell_type": "code",
      "metadata": {
        "id": "pdjSrNude3kY",
        "outputId": "caaa1dd3-6912-437d-af25-bff3be598473",
        "colab": {
          "base_uri": "https://localhost:8080/"
        }
      },
      "source": [
        "N = 1000\n",
        "total_rewards = np.empty(N)\n",
        "for n in tqdm(range(N)):\n",
        "    # There are 3 different kinds of epsilon to try\n",
        "    #eps = 1.0/np.sqrt(n+1)\n",
        "    #eps = 0.3\n",
        "    eps = 0.1*(0.97**n)\n",
        "    total_reward = agent.play(epsilon=eps, env=env, gamma=0.99)\n",
        "    total_rewards[n] = total_reward\n",
        "    # if (n + 1) % 100 == 0:\n",
        "    #     telegram_send.send(messages=[\"episode: {}, total reward: {}\".format(n, total_reward)])\n",
        "\n",
        "avgReward = total_rewards[-100:].mean()\n",
        "totalsteps = -total_rewards.sum()\n",
        "telegram_send.send(messages=[\n",
        "    \"Agent training complete! Please check your plots.\",\n",
        "    \"Average reward for last 100 episodes: {}.\".format(avgReward),\n",
        "    \"Total steps: {}\".format(totalsteps)\n",
        "])"
      ],
      "execution_count": 6,
      "outputs": [
        {
          "output_type": "stream",
          "text": [
            "100%|██████████| 1000/1000 [10:17<00:00,  1.62it/s]\n"
          ],
          "name": "stderr"
        }
      ]
    },
    {
      "cell_type": "code",
      "metadata": {
        "id": "Qnnn0hqle3kY",
        "outputId": "0293eaf5-bd17-44e8-9fdd-b8e544613378",
        "colab": {
          "base_uri": "https://localhost:8080/",
          "height": 281
        }
      },
      "source": [
        "# Sanity check on training\n",
        "plt.plot(total_rewards)\n",
        "plt.title(\"Rewards\")\n",
        "plt.show()"
      ],
      "execution_count": 7,
      "outputs": [
        {
          "output_type": "display_data",
          "data": {
            "image/png": "[encoded data removed]",
            "text/plain": [
              "<Figure size 432x288 with 1 Axes>"
            ]
          },
          "metadata": {
            "tags": [],
            "needs_background": "light"
          }
        }
      ]
    },
    {
      "cell_type": "code",
      "metadata": {
        "id": "CxHaBFNye3kY",
        "outputId": "20a57140-c65d-438d-884b-2f27d6cdfb1e",
        "colab": {
          "base_uri": "https://localhost:8080/",
          "height": 281
        }
      },
      "source": [
        "plot_running_avg(total_rewards)"
      ],
      "execution_count": 8,
      "outputs": [
        {
          "output_type": "display_data",
          "data": {
            "image/png": "[encoded data removed]",
            "text/plain": [
              "<Figure size 432x288 with 1 Axes>"
            ]
          },
          "metadata": {
            "tags": [],
            "needs_background": "light"
          }
        }
      ]
    }
  ]
}